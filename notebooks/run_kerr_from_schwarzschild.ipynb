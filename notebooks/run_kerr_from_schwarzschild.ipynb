{
 "cells": [
  {
   "cell_type": "code",
   "execution_count": 1,
   "metadata": {},
   "outputs": [],
   "source": [
    "import sys\n",
    "sys.path.append(\"../\")"
   ]
  },
  {
   "cell_type": "code",
   "execution_count": 2,
   "metadata": {},
   "outputs": [],
   "source": [
    "import os\n",
    "import random\n",
    "import numpy as np\n",
    "import torch\n",
    "\n",
    "project_path = \"../\"\n",
    "\n",
    "# set seeds for reproducibility\n",
    "\n",
    "seed = 1234\n",
    "random.seed(seed)\n",
    "np.random.seed(seed)\n",
    "torch.manual_seed(seed)\n",
    "\n",
    "show_plots = True\n",
    "save_plots_gif = True\n",
    "save_data = False\n",
    "\n",
    "test_name = \"kerr_from_schwarzschild/\"\n",
    "model_name = \"kerr_from_schwarzschild/\"\n",
    "\n",
    "output_directory = os.path.join(project_path, \"data/output/\", test_name)\n",
    "list_directories = [output_directory]\n",
    "\n",
    "for directory in list_directories:\n",
    "    os.makedirs(directory, exist_ok=True)\n"
   ]
  },
  {
   "cell_type": "code",
   "execution_count": 3,
   "metadata": {},
   "outputs": [],
   "source": [
    "import math\n",
    "\n",
    "datasize = 250\n",
    "mass_ratio = 0.0\n",
    "dt = 100.0\n",
    "\n",
    "chi_0 = math.pi / 2\n",
    "phi_0 = 0.0\n",
    "p_space = [20.0]\n",
    "M = 1.0\n",
    "e = 0.5\n",
    "tspan_train = torch.tensor([1, 4000])\n",
    "a_space = [0.5]\n"
   ]
  },
  {
   "cell_type": "markdown",
   "metadata": {},
   "source": [
    "## Model"
   ]
  },
  {
   "cell_type": "code",
   "execution_count": 4,
   "metadata": {},
   "outputs": [],
   "source": [
    "from src.physics.orbit_model.schwarzschild_orbit_model import RelativisticOrbitModel_Schwarzschild_EMR\n",
    "from src.physics.orbit_model.kerr_orbit_model import RelativisticOrbitModelODE\n",
    "\n",
    "from src.models.basic import BasicNN\n",
    "\n",
    "\n",
    "nn_model = BasicNN()"
   ]
  },
  {
   "cell_type": "markdown",
   "metadata": {},
   "source": [
    "# Train & Test Data"
   ]
  },
  {
   "cell_type": "code",
   "execution_count": null,
   "metadata": {},
   "outputs": [],
   "source": [
    "from src.data_generator.extreme_mass_ratio import build_pinn_problem\n",
    "from src.data_generator.extreme_mass_ratio_exact_solution import get_true_solution\n",
    "\n",
    "train_info = []\n",
    "for a in a_space:\n",
    "    for p in p_space:\n",
    "        train_info_i = build_pinn_problem(\n",
    "            nn_model=nn_model,\n",
    "            chi0=chi_0,\n",
    "            phi0=phi_0,\n",
    "            p=p,\n",
    "            M=M,\n",
    "            e=e,\n",
    "            a=a,\n",
    "            tspan=tspan_train,\n",
    "            datasize=datasize,\n",
    "            dt=dt,\n",
    "            factor=1\n",
    "        )\n",
    "        true_info = get_true_solution(\n",
    "            ode_problem=RelativisticOrbitModelODE(p=p, M=M, e=e, a=a),\n",
    "            u0=train_info_i[\"u0\"], \n",
    "            model_params=train_info_i[\"model_params\"],\n",
    "            tsteps=train_info_i[\"tsteps\"], \n",
    "            dt=dt\n",
    "        )\n",
    "        combined = {**train_info_i, **true_info}\n",
    "        train_info.append(combined)\n",
    "\n",
    "# similarly for test_info\n",
    "datasize_test = datasize * 1  # factor = 1\n",
    "tspan_test = (tspan_train[0], tspan_train[1]*1)\n",
    "\n",
    "test_info = []\n",
    "for a in a_space:\n",
    "    test_info_i = build_pinn_problem(\n",
    "        nn_model=nn_model,\n",
    "        chi0=chi_0,\n",
    "        phi0=phi_0,\n",
    "        p=p_space[0],\n",
    "        M=M,\n",
    "        e=e,\n",
    "        a=a,\n",
    "        tspan=tspan_test,\n",
    "        datasize=datasize_test,\n",
    "        dt=dt,\n",
    "        factor=1\n",
    "    )\n",
    "    true_info = get_true_solution(\n",
    "        ode_problem=RelativisticOrbitModelODE(p=p_space[0], M=M, e=e, a=a),\n",
    "        u0=test_info_i[\"u0\"], \n",
    "        model_params=test_info_i[\"model_params\"],\n",
    "        tsteps=test_info_i[\"tsteps\"], \n",
    "        dt=dt\n",
    "    )\n",
    "    combined = {**test_info_i, **true_info}\n",
    "    test_info.append(combined)\n",
    "\n",
    "datasets = {\"train\": train_info, \"test\": test_info}\n"
   ]
  },
  {
   "cell_type": "code",
   "execution_count": null,
   "metadata": {},
   "outputs": [
    {
     "data": {
      "image/png": "[encoded data removed]",
      "text/plain": [
       "<Figure size 1200x400 with 1 Axes>"
      ]
     },
     "metadata": {},
     "output_type": "display_data"
    }
   ],
   "source": [
    "import matplotlib.pyplot as plt\n",
    "\n",
    "plt.figure(figsize=(12, 4))\n",
    "for example in datasets[\"train\"][1:]:\n",
    "    plt.plot(example[\"tsteps\"], example[\"true_waveform\"], label=f'a = {example[\"model_params\"][3]}')\n",
    "\n",
    "plt.xlabel(\"time\")\n",
    "plt.ylabel(\"Waveform\")\n",
    "plt.legend()\n",
    "plt.show()"
   ]
  },
  {
   "cell_type": "markdown",
   "metadata": {},
   "source": [
    "# Train"
   ]
  },
  {
   "cell_type": "code",
   "execution_count": null,
   "metadata": {},
   "outputs": [],
   "source": [
    "import torch.optim as optim\n",
    "\n",
    "optimizer = optim.Adam(NN.parameters(), lr=0.0005)\n",
    "\n",
    "train_losses = []\n",
    "test_losses = []\n",
    "train_metrics = []\n",
    "test_metrics = []\n",
    "\n",
    "def loss_function(pred, true):\n",
    "    return torch.mean(torch.abs(pred - true))  # MAE example\n",
    "\n",
    "for epoch in range(200):\n",
    "    NN.train()\n",
    "    total_loss = 0.0\n",
    "    for batch in train_loader:\n",
    "        optimizer.zero_grad()\n",
    "        inputs, targets = batch\n",
    "        outputs = NN(inputs)\n",
    "        loss = loss_function(outputs, targets)\n",
    "        loss.backward()\n",
    "        optimizer.step()\n",
    "        total_loss += loss.item()\n",
    "    train_losses.append(total_loss / len(train_loader))\n",
    "    \n",
    "    # Evaluate on test set...\n",
    "    # Append test_losses, train_metrics, test_metrics\n",
    "    \n",
    "    if show_plots and epoch % 10 == 0:\n",
    "        # Plot training progress here\n",
    "        pass\n"
   ]
  },
  {
   "cell_type": "markdown",
   "metadata": {},
   "source": [
    "# Save & Plots"
   ]
  },
  {
   "cell_type": "code",
   "execution_count": null,
   "metadata": {},
   "outputs": [],
   "source": [
    "torch.save(NN.state_dict(), os.path.join(solutions_dir, \"model_chiphi.pth\"))\n",
    "\n",
    "plt.figure()\n",
    "plt.plot(train_losses, label=\"Train Loss\")\n",
    "plt.plot(test_losses, label=\"Test Loss\")\n",
    "plt.legend()\n",
    "plt.savefig(os.path.join(output_dir, \"plot_metrics.png\"))\n"
   ]
  }
 ],
 "metadata": {
  "kernelspec": {
   "display_name": "venv",
   "language": "python",
   "name": "python3"
  },
  "language_info": {
   "codemirror_mode": {
    "name": "ipython",
    "version": 3
   },
   "file_extension": ".py",
   "mimetype": "text/x-python",
   "name": "python",
   "nbconvert_exporter": "python",
   "pygments_lexer": "ipython3",
   "version": "3.12.3"
  }
 },
 "nbformat": 4,
 "nbformat_minor": 2
}
