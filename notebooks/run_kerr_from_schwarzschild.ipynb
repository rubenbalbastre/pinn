{
 "cells": [
  {
   "cell_type": "code",
   "execution_count": 1,
   "metadata": {},
   "outputs": [],
   "source": [
    "import sys\n",
    "sys.path.append(\"../\")"
   ]
  },
  {
   "cell_type": "code",
   "execution_count": 2,
   "metadata": {},
   "outputs": [],
   "source": [
    "import os\n",
    "import random\n",
    "import numpy as np\n",
    "import torch\n",
    "\n",
    "project_path = \"../\"\n",
    "\n",
    "# set seeds for reproducibility\n",
    "\n",
    "seed = 1234\n",
    "random.seed(seed)\n",
    "np.random.seed(seed)\n",
    "torch.manual_seed(seed)\n",
    "\n",
    "show_plots = True\n",
    "save_plots_gif = True\n",
    "save_data = False\n",
    "\n",
    "test_name = \"kerr_from_schwarzschild/\"\n",
    "model_name = \"kerr_from_schwarzschild/\"\n",
    "\n",
    "output_directory = os.path.join(project_path, \"data/output/\", test_name)\n",
    "list_directories = [output_directory]\n",
    "\n",
    "for directory in list_directories:\n",
    "    os.makedirs(directory, exist_ok=True)\n"
   ]
  },
  {
   "cell_type": "code",
   "execution_count": 3,
   "metadata": {},
   "outputs": [],
   "source": [
    "import math\n",
    "\n",
    "datasize = 250\n",
    "mass_ratio = 0.0\n",
    "dt = 100.0\n",
    "\n",
    "chi_0 = math.pi / 2\n",
    "phi_0 = 0.0\n",
    "p_space = [20.0]\n",
    "M = 1.0\n",
    "e = 0.5\n",
    "tspan_train = torch.tensor([0.1, 4000])\n",
    "a_space = [1e-5]\n"
   ]
  },
  {
   "cell_type": "markdown",
   "metadata": {},
   "source": [
    "# Train & Test Data"
   ]
  },
  {
   "cell_type": "code",
   "execution_count": 4,
   "metadata": {},
   "outputs": [
    {
     "ename": "AssertionError",
     "evalue": "underflow in dt 0.0",
     "output_type": "error",
     "traceback": [
      "\u001b[31m---------------------------------------------------------------------------\u001b[39m",
      "\u001b[31mAssertionError\u001b[39m                            Traceback (most recent call last)",
      "\u001b[36mCell\u001b[39m\u001b[36m \u001b[39m\u001b[32mIn[4]\u001b[39m\u001b[32m, line 8\u001b[39m\n\u001b[32m      6\u001b[39m \u001b[38;5;28;01mfor\u001b[39;00m p \u001b[38;5;129;01min\u001b[39;00m p_space:\n\u001b[32m      7\u001b[39m     train_info_i = get_pinn_EMR_schwarzschild(chi_0, phi_0, p, M, e, a, tspan_train, datasize, dt)\n\u001b[32m----> \u001b[39m\u001b[32m8\u001b[39m     true_info = \u001b[43mget_true_solution_EMR_kerr\u001b[49m\u001b[43m(\u001b[49m\n\u001b[32m      9\u001b[39m \u001b[43m        \u001b[49m\u001b[43mu0\u001b[49m\u001b[43m=\u001b[49m\u001b[43mtrain_info_i\u001b[49m\u001b[43m[\u001b[49m\u001b[33;43m\"\u001b[39;49m\u001b[33;43mu0\u001b[39;49m\u001b[33;43m\"\u001b[39;49m\u001b[43m]\u001b[49m\u001b[43m,\u001b[49m\u001b[43m \u001b[49m\n\u001b[32m     10\u001b[39m \u001b[43m        \u001b[49m\u001b[43mmodel_params\u001b[49m\u001b[43m=\u001b[49m\u001b[43mtrain_info_i\u001b[49m\u001b[43m[\u001b[49m\u001b[33;43m\"\u001b[39;49m\u001b[33;43mmodel_params\u001b[39;49m\u001b[33;43m\"\u001b[39;49m\u001b[43m]\u001b[49m\u001b[43m,\u001b[49m\u001b[43m \u001b[49m\n\u001b[32m     11\u001b[39m \u001b[43m        \u001b[49m\u001b[43mtotal_mass\u001b[49m\u001b[43m=\u001b[49m\u001b[43mM\u001b[49m\u001b[43m,\u001b[49m\u001b[43m \u001b[49m\n\u001b[32m     12\u001b[39m \u001b[43m        \u001b[49m\u001b[43mtspan\u001b[49m\u001b[43m=\u001b[49m\u001b[43mtrain_info_i\u001b[49m\u001b[43m[\u001b[49m\u001b[33;43m\"\u001b[39;49m\u001b[33;43mtspan\u001b[39;49m\u001b[33;43m\"\u001b[39;49m\u001b[43m]\u001b[49m\u001b[43m,\u001b[49m\u001b[43m \u001b[49m\n\u001b[32m     13\u001b[39m \u001b[43m        \u001b[49m\u001b[43mtsteps\u001b[49m\u001b[43m=\u001b[49m\u001b[43mtrain_info_i\u001b[49m\u001b[43m[\u001b[49m\u001b[33;43m\"\u001b[39;49m\u001b[33;43mtsteps\u001b[39;49m\u001b[33;43m\"\u001b[39;49m\u001b[43m]\u001b[49m\u001b[43m,\u001b[49m\u001b[43m \u001b[49m\n\u001b[32m     14\u001b[39m \u001b[43m        \u001b[49m\u001b[43mdt_data\u001b[49m\u001b[43m=\u001b[49m\u001b[43mtrain_info_i\u001b[49m\u001b[43m[\u001b[49m\u001b[33;43m\"\u001b[39;49m\u001b[33;43mdt_data\u001b[39;49m\u001b[33;43m\"\u001b[39;49m\u001b[43m]\u001b[49m\u001b[43m,\u001b[49m\u001b[43m \u001b[49m\n\u001b[32m     15\u001b[39m \u001b[43m        \u001b[49m\u001b[43mdt\u001b[49m\u001b[43m=\u001b[49m\u001b[43mdt\u001b[49m\n\u001b[32m     16\u001b[39m \u001b[43m    \u001b[49m\u001b[43m)\u001b[49m\n\u001b[32m     17\u001b[39m     combined = {**train_info_i, **true_info}\n\u001b[32m     18\u001b[39m     train_info.append(combined)\n",
      "\u001b[36mFile \u001b[39m\u001b[32m~/Escritorio/Rubén/JEPA/notebooks/../src/data_generator/extreme_mass_ratio_exact_solution.py:49\u001b[39m, in \u001b[36mget_true_solution_EMR_kerr\u001b[39m\u001b[34m(u0, model_params, total_mass, tspan, tsteps, dt_data, dt)\u001b[39m\n\u001b[32m     46\u001b[39m         \u001b[38;5;28;01mreturn\u001b[39;00m RelativisticOrbitModel_Kerr_EMR(t, u, model_params)\n\u001b[32m     48\u001b[39m solver = KerrODE()\n\u001b[32m---> \u001b[39m\u001b[32m49\u001b[39m true_solution = \u001b[43modeint\u001b[49m\u001b[43m(\u001b[49m\u001b[43msolver\u001b[49m\u001b[43m,\u001b[49m\u001b[43m \u001b[49m\u001b[43mu0\u001b[49m\u001b[43m,\u001b[49m\u001b[43m \u001b[49m\u001b[43mtsteps\u001b[49m\u001b[43m,\u001b[49m\u001b[43m \u001b[49m\u001b[43mmethod\u001b[49m\u001b[43m=\u001b[49m\u001b[33;43m'\u001b[39;49m\u001b[33;43mdopri5\u001b[39;49m\u001b[33;43m'\u001b[39;49m\u001b[43m)\u001b[49m\n\u001b[32m     51\u001b[39m true_solution = true_solution.T\n\u001b[32m     52\u001b[39m true_waveform, _ = compute_waveform(dt_data, true_solution, mass_ratio, total_mass, model_params)\n",
      "\u001b[36mFile \u001b[39m\u001b[32m~/Escritorio/Rubén/JEPA/venv/lib/python3.12/site-packages/torchdiffeq/_impl/odeint.py:80\u001b[39m, in \u001b[36modeint\u001b[39m\u001b[34m(func, y0, t, rtol, atol, method, options, event_fn)\u001b[39m\n\u001b[32m     77\u001b[39m solver = SOLVERS[method](func=func, y0=y0, rtol=rtol, atol=atol, **options)\n\u001b[32m     79\u001b[39m \u001b[38;5;28;01mif\u001b[39;00m event_fn \u001b[38;5;129;01mis\u001b[39;00m \u001b[38;5;28;01mNone\u001b[39;00m:\n\u001b[32m---> \u001b[39m\u001b[32m80\u001b[39m     solution = \u001b[43msolver\u001b[49m\u001b[43m.\u001b[49m\u001b[43mintegrate\u001b[49m\u001b[43m(\u001b[49m\u001b[43mt\u001b[49m\u001b[43m)\u001b[49m\n\u001b[32m     81\u001b[39m \u001b[38;5;28;01melse\u001b[39;00m:\n\u001b[32m     82\u001b[39m     event_t, solution = solver.integrate_until_event(t[\u001b[32m0\u001b[39m], event_fn)\n",
      "\u001b[36mFile \u001b[39m\u001b[32m~/Escritorio/Rubén/JEPA/venv/lib/python3.12/site-packages/torchdiffeq/_impl/solvers.py:34\u001b[39m, in \u001b[36mAdaptiveStepsizeODESolver.integrate\u001b[39m\u001b[34m(self, t)\u001b[39m\n\u001b[32m     32\u001b[39m \u001b[38;5;28mself\u001b[39m._before_integrate(t)\n\u001b[32m     33\u001b[39m \u001b[38;5;28;01mfor\u001b[39;00m i \u001b[38;5;129;01min\u001b[39;00m \u001b[38;5;28mrange\u001b[39m(\u001b[32m1\u001b[39m, \u001b[38;5;28mlen\u001b[39m(t)):\n\u001b[32m---> \u001b[39m\u001b[32m34\u001b[39m     solution[i] = \u001b[38;5;28;43mself\u001b[39;49m\u001b[43m.\u001b[49m\u001b[43m_advance\u001b[49m\u001b[43m(\u001b[49m\u001b[43mt\u001b[49m\u001b[43m[\u001b[49m\u001b[43mi\u001b[49m\u001b[43m]\u001b[49m\u001b[43m)\u001b[49m\n\u001b[32m     35\u001b[39m \u001b[38;5;28;01mreturn\u001b[39;00m solution\n",
      "\u001b[36mFile \u001b[39m\u001b[32m~/Escritorio/Rubén/JEPA/venv/lib/python3.12/site-packages/torchdiffeq/_impl/rk_common.py:246\u001b[39m, in \u001b[36mRKAdaptiveStepsizeODESolver._advance\u001b[39m\u001b[34m(self, next_t)\u001b[39m\n\u001b[32m    244\u001b[39m \u001b[38;5;28;01mwhile\u001b[39;00m next_t > \u001b[38;5;28mself\u001b[39m.rk_state.t1:\n\u001b[32m    245\u001b[39m     \u001b[38;5;28;01massert\u001b[39;00m n_steps < \u001b[38;5;28mself\u001b[39m.max_num_steps, \u001b[33m'\u001b[39m\u001b[33mmax_num_steps exceeded (\u001b[39m\u001b[38;5;132;01m{}\u001b[39;00m\u001b[33m>=\u001b[39m\u001b[38;5;132;01m{}\u001b[39;00m\u001b[33m)\u001b[39m\u001b[33m'\u001b[39m.format(n_steps, \u001b[38;5;28mself\u001b[39m.max_num_steps)\n\u001b[32m--> \u001b[39m\u001b[32m246\u001b[39m     \u001b[38;5;28mself\u001b[39m.rk_state = \u001b[38;5;28;43mself\u001b[39;49m\u001b[43m.\u001b[49m\u001b[43m_adaptive_step\u001b[49m\u001b[43m(\u001b[49m\u001b[38;5;28;43mself\u001b[39;49m\u001b[43m.\u001b[49m\u001b[43mrk_state\u001b[49m\u001b[43m)\u001b[49m\n\u001b[32m    247\u001b[39m     n_steps += \u001b[32m1\u001b[39m\n\u001b[32m    248\u001b[39m \u001b[38;5;28;01mreturn\u001b[39;00m _interp_evaluate(\u001b[38;5;28mself\u001b[39m.rk_state.interp_coeff, \u001b[38;5;28mself\u001b[39m.rk_state.t0, \u001b[38;5;28mself\u001b[39m.rk_state.t1, next_t)\n",
      "\u001b[36mFile \u001b[39m\u001b[32m~/Escritorio/Rubén/JEPA/venv/lib/python3.12/site-packages/torchdiffeq/_impl/rk_common.py:284\u001b[39m, in \u001b[36mRKAdaptiveStepsizeODESolver._adaptive_step\u001b[39m\u001b[34m(self, rk_state)\u001b[39m\n\u001b[32m    271\u001b[39m t1 = t0 + dt\n\u001b[32m    272\u001b[39m \u001b[38;5;66;03m# dtypes: self.y0.dtype (probably float32); self.dtype (probably float64)\u001b[39;00m\n\u001b[32m    273\u001b[39m \u001b[38;5;66;03m# used for state and timelike objects respectively.\u001b[39;00m\n\u001b[32m    274\u001b[39m \u001b[38;5;66;03m# Then:\u001b[39;00m\n\u001b[32m   (...)\u001b[39m\u001b[32m    282\u001b[39m \u001b[38;5;66;03m#                      Assertions                      #\u001b[39;00m\n\u001b[32m    283\u001b[39m \u001b[38;5;66;03m########################################################\u001b[39;00m\n\u001b[32m--> \u001b[39m\u001b[32m284\u001b[39m \u001b[38;5;28;01massert\u001b[39;00m t0 + dt > t0, \u001b[33m'\u001b[39m\u001b[33munderflow in dt \u001b[39m\u001b[38;5;132;01m{}\u001b[39;00m\u001b[33m'\u001b[39m.format(dt.item())\n\u001b[32m    285\u001b[39m \u001b[38;5;28;01massert\u001b[39;00m torch.isfinite(y0).all(), \u001b[33m'\u001b[39m\u001b[33mnon-finite values in state `y`: \u001b[39m\u001b[38;5;132;01m{}\u001b[39;00m\u001b[33m'\u001b[39m.format(y0)\n\u001b[32m    287\u001b[39m \u001b[38;5;66;03m########################################################\u001b[39;00m\n\u001b[32m    288\u001b[39m \u001b[38;5;66;03m#     Make step, respecting prescribed grid points     #\u001b[39;00m\n\u001b[32m    289\u001b[39m \u001b[38;5;66;03m########################################################\u001b[39;00m\n",
      "\u001b[31mAssertionError\u001b[39m: underflow in dt 0.0"
     ]
    }
   ],
   "source": [
    "from src.data_generator.extreme_mass_ratio import get_pinn_EMR_schwarzschild\n",
    "from src.data_generator.extreme_mass_ratio_exact_solution import get_true_solution_EMR_kerr\n",
    "\n",
    "train_info = []\n",
    "for a in a_space:\n",
    "    for p in p_space:\n",
    "        train_info_i = get_pinn_EMR_schwarzschild(chi_0, phi_0, p, M, e, a, tspan_train, datasize, dt)\n",
    "        true_info = get_true_solution_EMR_kerr(\n",
    "            u0=train_info_i[\"u0\"], \n",
    "            model_params=train_info_i[\"model_params\"], \n",
    "            total_mass=M, \n",
    "            tspan=train_info_i[\"tspan\"], \n",
    "            tsteps=train_info_i[\"tsteps\"], \n",
    "            dt_data=train_info_i[\"dt_data\"], \n",
    "            dt=dt\n",
    "        )\n",
    "        combined = {**train_info_i, **true_info}\n",
    "        train_info.append(combined)\n",
    "\n",
    "# similarly for test_info\n",
    "datasize_test = datasize * 1  # factor = 1\n",
    "tspan_test = (tspan_train[0], tspan_train[1]*1)\n",
    "\n",
    "test_info = []\n",
    "for a in a_space:\n",
    "    test_info_i = get_pinn_EMR_schwarzschild(chi_0, phi_0, p_space[0], M, e, a, tspan_test, datasize_test, dt)\n",
    "    true_info = get_true_solution_EMR_kerr(test_info_i[\"u0\"], test_info_i[\"model_params\"], M, test_info_i[\"tspan\"], test_info_i[\"tsteps\"], test_info_i[\"dt_data\"], dt)\n",
    "    combined = {**test_info_i, **true_info}\n",
    "    test_info.append(combined)\n"
   ]
  },
  {
   "cell_type": "code",
   "execution_count": null,
   "metadata": {},
   "outputs": [],
   "source": [
    "datasets = {\"train\": train_info, \"test\": test_info}\n",
    "\n",
    "def process_datasets(datasets):\n",
    "    # Process raw dicts into PyTorch tensors or arrays,\n",
    "    # prepare data loaders, etc.\n",
    "    pass\n",
    "\n",
    "processed_data = process_datasets(datasets)\n"
   ]
  },
  {
   "cell_type": "code",
   "execution_count": null,
   "metadata": {},
   "outputs": [],
   "source": [
    "import matplotlib.pyplot as plt\n",
    "\n",
    "plt.figure(figsize=(12, 4))\n",
    "for example in processed_data[\"train\"]:\n",
    "    plt.plot(example[\"tsteps\"], example[\"true_waveform\"], label=f'a = {example[\"model_params\"][3]}')\n",
    "\n",
    "plt.xlabel(\"time\")\n",
    "plt.ylabel(\"Waveform\")\n",
    "plt.legend()\n",
    "plt.show()\n"
   ]
  },
  {
   "cell_type": "markdown",
   "metadata": {},
   "source": [
    "# Train"
   ]
  },
  {
   "cell_type": "code",
   "execution_count": null,
   "metadata": {},
   "outputs": [],
   "source": [
    "import torch.optim as optim\n",
    "\n",
    "optimizer = optim.Adam(NN.parameters(), lr=0.0005)\n",
    "\n",
    "train_losses = []\n",
    "test_losses = []\n",
    "train_metrics = []\n",
    "test_metrics = []\n",
    "\n",
    "def loss_function(pred, true):\n",
    "    return torch.mean(torch.abs(pred - true))  # MAE example\n",
    "\n",
    "for epoch in range(200):\n",
    "    NN.train()\n",
    "    total_loss = 0.0\n",
    "    for batch in train_loader:\n",
    "        optimizer.zero_grad()\n",
    "        inputs, targets = batch\n",
    "        outputs = NN(inputs)\n",
    "        loss = loss_function(outputs, targets)\n",
    "        loss.backward()\n",
    "        optimizer.step()\n",
    "        total_loss += loss.item()\n",
    "    train_losses.append(total_loss / len(train_loader))\n",
    "    \n",
    "    # Evaluate on test set...\n",
    "    # Append test_losses, train_metrics, test_metrics\n",
    "    \n",
    "    if show_plots and epoch % 10 == 0:\n",
    "        # Plot training progress here\n",
    "        pass\n"
   ]
  },
  {
   "cell_type": "markdown",
   "metadata": {},
   "source": [
    "# Save & Plots"
   ]
  },
  {
   "cell_type": "code",
   "execution_count": null,
   "metadata": {},
   "outputs": [],
   "source": [
    "torch.save(NN.state_dict(), os.path.join(solutions_dir, \"model_chiphi.pth\"))\n",
    "\n",
    "plt.figure()\n",
    "plt.plot(train_losses, label=\"Train Loss\")\n",
    "plt.plot(test_losses, label=\"Test Loss\")\n",
    "plt.legend()\n",
    "plt.savefig(os.path.join(output_dir, \"plot_metrics.png\"))\n"
   ]
  }
 ],
 "metadata": {
  "kernelspec": {
   "display_name": "venv",
   "language": "python",
   "name": "python3"
  },
  "language_info": {
   "codemirror_mode": {
    "name": "ipython",
    "version": 3
   },
   "file_extension": ".py",
   "mimetype": "text/x-python",
   "name": "python",
   "nbconvert_exporter": "python",
   "pygments_lexer": "ipython3",
   "version": "3.12.3"
  }
 },
 "nbformat": 4,
 "nbformat_minor": 2
}
