{
 "cells": [
  {
   "cell_type": "code",
   "execution_count": 5,
   "metadata": {},
   "outputs": [],
   "source": [
    "import sys\n",
    "sys.path.append(\"../\")"
   ]
  },
  {
   "cell_type": "code",
   "execution_count": 6,
   "metadata": {},
   "outputs": [],
   "source": [
    "import os\n",
    "import random\n",
    "import numpy as np\n",
    "import torch\n",
    "\n",
    "project_path = \"../\"\n",
    "\n",
    "# set seeds for reproducibility\n",
    "\n",
    "seed = 1234\n",
    "random.seed(seed)\n",
    "np.random.seed(seed)\n",
    "torch.manual_seed(seed)\n",
    "\n",
    "show_plots = True\n",
    "save_plots_gif = True\n",
    "save_data = False\n",
    "\n",
    "test_name = \"kerr_from_schwarzschild/\"\n",
    "model_name = \"kerr_from_schwarzschild/\"\n",
    "\n",
    "output_directory = os.path.join(project_path, \"data/output/\", test_name)\n",
    "list_directories = [output_directory]\n",
    "\n",
    "for directory in list_directories:\n",
    "    os.makedirs(directory, exist_ok=True)\n"
   ]
  },
  {
   "cell_type": "code",
   "execution_count": 7,
   "metadata": {},
   "outputs": [],
   "source": [
    "import math\n",
    "\n",
    "datasize = 250\n",
    "mass_ratio = 0.0\n",
    "dt = 100.0\n",
    "\n",
    "chi_0 = math.pi / 2\n",
    "phi_0 = 0.0\n",
    "p_space = [20.0]\n",
    "M = 1.0\n",
    "e = 0.5\n",
    "tspan_train = (0, 4000)\n",
    "a_space = [1e-5]\n"
   ]
  },
  {
   "cell_type": "markdown",
   "metadata": {},
   "source": [
    "# Train & Test Data"
   ]
  },
  {
   "cell_type": "code",
   "execution_count": null,
   "metadata": {},
   "outputs": [],
   "source": [
    "from src.data_generator.extreme_mass_ratio import get_pinn_EMR_schwarzschild\n",
    "from src.data_generator.extreme_mass_ratio_exact_solution import get_true_solution_EMR_kerr\n",
    "\n",
    "train_info = []\n",
    "for a in a_space:\n",
    "    for p in p_space:\n",
    "        train_info_i = get_pinn_EMR_schwarzschild(chi_0, phi_0, p, M, e, a, tspan_train, datasize, dt)\n",
    "        true_info = get_true_solution_EMR_kerr(train_info_i[\"u0\"], train_info_i[\"model_params\"], M, train_info_i[\"tspan\"], train_info_i[\"tsteps\"], train_info_i[\"dt_data\"], dt)\n",
    "        combined = {**train_info_i, **true_info}\n",
    "        train_info.append(combined)\n",
    "\n",
    "# similarly for test_info\n",
    "datasize_test = datasize * 1  # factor = 1\n",
    "tspan_test = (tspan_train[0], tspan_train[1]*1)\n",
    "\n",
    "test_info = []\n",
    "for a in a_space:\n",
    "    test_info_i = get_pinn_EMR_schwarzschild(chi_0, phi_0, p_space[0], M, e, a, tspan_test, datasize_test, dt)\n",
    "    true_info = get_true_solution_EMR_kerr(test_info_i[\"u0\"], test_info_i[\"model_params\"], M, test_info_i[\"tspan\"], test_info_i[\"tsteps\"], test_info_i[\"dt_data\"], dt)\n",
    "    combined = {**test_info_i, **true_info}\n",
    "    test_info.append(combined)\n"
   ]
  },
  {
   "cell_type": "code",
   "execution_count": null,
   "metadata": {},
   "outputs": [],
   "source": [
    "datasets = {\"train\": train_info, \"test\": test_info}\n",
    "\n",
    "def process_datasets(datasets):\n",
    "    # Process raw dicts into PyTorch tensors or arrays,\n",
    "    # prepare data loaders, etc.\n",
    "    pass\n",
    "\n",
    "processed_data = process_datasets(datasets)\n"
   ]
  },
  {
   "cell_type": "code",
   "execution_count": null,
   "metadata": {},
   "outputs": [],
   "source": [
    "import matplotlib.pyplot as plt\n",
    "\n",
    "plt.figure(figsize=(12, 4))\n",
    "for example in processed_data[\"train\"]:\n",
    "    plt.plot(example[\"tsteps\"], example[\"true_waveform\"], label=f'a = {example[\"model_params\"][3]}')\n",
    "\n",
    "plt.xlabel(\"time\")\n",
    "plt.ylabel(\"Waveform\")\n",
    "plt.legend()\n",
    "plt.show()\n"
   ]
  },
  {
   "cell_type": "markdown",
   "metadata": {},
   "source": [
    "# Train"
   ]
  },
  {
   "cell_type": "code",
   "execution_count": null,
   "metadata": {},
   "outputs": [],
   "source": [
    "import torch.optim as optim\n",
    "\n",
    "optimizer = optim.Adam(NN.parameters(), lr=0.0005)\n",
    "\n",
    "train_losses = []\n",
    "test_losses = []\n",
    "train_metrics = []\n",
    "test_metrics = []\n",
    "\n",
    "def loss_function(pred, true):\n",
    "    return torch.mean(torch.abs(pred - true))  # MAE example\n",
    "\n",
    "for epoch in range(200):\n",
    "    NN.train()\n",
    "    total_loss = 0.0\n",
    "    for batch in train_loader:\n",
    "        optimizer.zero_grad()\n",
    "        inputs, targets = batch\n",
    "        outputs = NN(inputs)\n",
    "        loss = loss_function(outputs, targets)\n",
    "        loss.backward()\n",
    "        optimizer.step()\n",
    "        total_loss += loss.item()\n",
    "    train_losses.append(total_loss / len(train_loader))\n",
    "    \n",
    "    # Evaluate on test set...\n",
    "    # Append test_losses, train_metrics, test_metrics\n",
    "    \n",
    "    if show_plots and epoch % 10 == 0:\n",
    "        # Plot training progress here\n",
    "        pass\n"
   ]
  },
  {
   "cell_type": "markdown",
   "metadata": {},
   "source": [
    "# Save & Plots"
   ]
  },
  {
   "cell_type": "code",
   "execution_count": null,
   "metadata": {},
   "outputs": [],
   "source": [
    "torch.save(NN.state_dict(), os.path.join(solutions_dir, \"model_chiphi.pth\"))\n",
    "\n",
    "plt.figure()\n",
    "plt.plot(train_losses, label=\"Train Loss\")\n",
    "plt.plot(test_losses, label=\"Test Loss\")\n",
    "plt.legend()\n",
    "plt.savefig(os.path.join(output_dir, \"plot_metrics.png\"))\n"
   ]
  }
 ],
 "metadata": {
  "kernelspec": {
   "display_name": "venv",
   "language": "python",
   "name": "python3"
  },
  "language_info": {
   "codemirror_mode": {
    "name": "ipython",
    "version": 3
   },
   "file_extension": ".py",
   "mimetype": "text/x-python",
   "name": "python",
   "nbconvert_exporter": "python",
   "pygments_lexer": "ipython3",
   "version": "3.12.3"
  }
 },
 "nbformat": 4,
 "nbformat_minor": 2
}
