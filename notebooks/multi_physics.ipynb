{
 "cells": [
  {
   "cell_type": "code",
   "execution_count": 1,
   "metadata": {},
   "outputs": [
    {
     "name": "stdout",
     "output_type": "stream",
     "text": [
      "Epoch 0: Loss = 3.2759e+05\n",
      "Epoch 20: Loss = 7.6197e+04\n",
      "Epoch 40: Loss = 6.7807e+04\n",
      "Epoch 60: Loss = 5.9653e+04\n",
      "Epoch 80: Loss = 5.1803e+04\n"
     ]
    }
   ],
   "source": [
    "import sys\n",
    "import os\n",
    "sys.path.append(os.path.abspath(os.path.join(\"..\", \"\")))\n",
    "\n",
    "import torch\n",
    "from torch.utils.data import ConcatDataset\n",
    "\n",
    "import itertools\n",
    "\n",
    "from src.data_generator.heat_equations import HeatEquationDataset\n",
    "from src.data_generator.diffusion_equations import DiffusionEquationDataset\n",
    "from src.data_generator.wave_equations import WaveEquationDataset\n",
    "\n",
    "from src.train.multi_physics_train import train\n",
    "from src.figures.figures import plot_sample\n",
    "from src.models.multi_physics import Encoder, MultiMeasurementHeads, MultiPropertyHeads, SharedDecoder\n",
    "from src.loss_function.loss_function import Loss\n",
    "\n",
    "\n",
    "if __name__ == \"__main__\":\n",
    "\n",
    "    # Create Dataset\n",
    "    wave_dataset = WaveEquationDataset(n_samples=2, nx=50, nt=50)\n",
    "    diffusion_dataset = DiffusionEquationDataset(n_samples=2, nx=50, nt=50)\n",
    "    heat_dataset = HeatEquationDataset(n_samples=2, nx=50, nt=50)\n",
    "    dataset = ConcatDataset([wave_dataset, diffusion_dataset, heat_dataset])\n",
    "\n",
    "    # Define PINNS\n",
    "    embedding_dim = 8\n",
    "    encoder = Encoder(latent_dim=embedding_dim)\n",
    "    decoder = {\n",
    "        # \"shared_decoder\": SharedDecoder(latent_dim=32, output_dim=8),\n",
    "        \"measurements\": MultiMeasurementHeads(spacetime_dim=2),\n",
    "        \"properties\": MultiPropertyHeads(latent_dim=embedding_dim)\n",
    "    }\n",
    "\n",
    "    # training\n",
    "    encoder.train()\n",
    "    for decoder_net in decoder.values():\n",
    "        decoder_net.train()\n",
    "\n",
    "    lr = 1e-3\n",
    "    all_params = list(encoder.parameters()) + list(itertools.chain.from_iterable(\n",
    "    decoder_net.parameters() for decoder_net in decoder.values()\n",
    "    ))\n",
    "    optimizer = torch.optim.Adam(all_params, lr=lr)\n",
    "\n",
    "    loss = Loss()\n",
    "    train(\n",
    "        loss_function=loss,\n",
    "        optimizer=optimizer,\n",
    "        dataset=dataset,\n",
    "        encoder=encoder,\n",
    "        decoder=decoder,\n",
    "        epochs=100\n",
    "    )\n",
    "\n",
    "    # plot\n",
    "    encoder.eval()\n",
    "    for decoder_net in decoder.values():\n",
    "        decoder_net.eval()\n",
    "\n"
   ]
  },
  {
   "cell_type": "markdown",
   "metadata": {},
   "source": []
  }
 ],
 "metadata": {
  "kernelspec": {
   "display_name": "venv",
   "language": "python",
   "name": "python3"
  },
  "language_info": {
   "codemirror_mode": {
    "name": "ipython",
    "version": 3
   },
   "file_extension": ".py",
   "mimetype": "text/x-python",
   "name": "python",
   "nbconvert_exporter": "python",
   "pygments_lexer": "ipython3",
   "version": "3.12.3"
  }
 },
 "nbformat": 4,
 "nbformat_minor": 2
}
