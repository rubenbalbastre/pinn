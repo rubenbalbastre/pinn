{
 "cells": [
  {
   "cell_type": "markdown",
   "metadata": {},
   "source": [
    "# Options: Black-Scholes Equation\n",
    "\n",
    "Options price is generally modeled using Black-Scholes differential equation. Here, we try to solve it using PINNs."
   ]
  },
  {
   "cell_type": "code",
   "execution_count": null,
   "metadata": {},
   "outputs": [],
   "source": [
    "import sys\n",
    "import os\n",
    "sys.path.append(os.path.abspath(os.path.join(\"..\", \"\")))\n",
    "\n",
    "import torch\n",
    "from src.data_generator.options.options_equations import OptionsDataset\n",
    "from src.train.options.train_options_pinn import train_options_pinn\n",
    "# from src.figures.loss_function import plot_losses\n",
    "# from src.figures.figures import plot_sample, plot_physical_property\n",
    "from src.models.options.options import OptionPriceNetwork\n",
    "from src.loss_function.options.loss import Loss\n",
    "\n",
    "\n",
    "# For PyTorch random\n",
    "torch.manual_seed(45)\n",
    "\n",
    "# Create Dataset\n",
    "dataset = OptionsDataset(n_samples=1, nS=20, nt=20)\n",
    "\n",
    "# Define PINNs\n",
    "option_net = OptionPriceNetwork()\n",
    "\n",
    "# training\n",
    "option_net.train()\n",
    "\n",
    "lr = 1e-2\n",
    "optimizer = torch.optim.Adam(list(option_net.parameters()), lr=lr)\n",
    "loss = Loss(T=100.0, K=120.0, risk_free_interest_rate=0.03, volatility=1.2)\n",
    "losses = train_options_pinn(\n",
    "    loss_function=loss,\n",
    "    optimizer=optimizer,\n",
    "    dataset=dataset,\n",
    "    options_price_net=option_net,\n",
    "    epochs=3000\n",
    ")\n"
   ]
  },
  {
   "cell_type": "code",
   "execution_count": null,
   "metadata": {},
   "outputs": [],
   "source": []
  }
 ],
 "metadata": {
  "kernelspec": {
   "display_name": "venv",
   "language": "python",
   "name": "python3"
  },
  "language_info": {
   "codemirror_mode": {
    "name": "ipython",
    "version": 3
   },
   "file_extension": ".py",
   "mimetype": "text/x-python",
   "name": "python",
   "nbconvert_exporter": "python",
   "pygments_lexer": "ipython3",
   "version": "3.12.3"
  }
 },
 "nbformat": 4,
 "nbformat_minor": 2
}
